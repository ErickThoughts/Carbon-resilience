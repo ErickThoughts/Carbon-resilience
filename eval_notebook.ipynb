{
 "cells": [
  {
   "cell_type": "code",
   "execution_count": 1,
   "id": "f242131d",
   "metadata": {},
   "outputs": [],
   "source": [
    "import os\n",
    "import pandas as pd\n",
    "import numpy as np"
   ]
  },
  {
   "cell_type": "code",
   "execution_count": 2,
   "id": "aa01e06b",
   "metadata": {},
   "outputs": [
    {
     "data": {
      "text/plain": [
       "'D:\\\\OneDrive\\\\Code Warehouse'"
      ]
     },
     "execution_count": 2,
     "metadata": {},
     "output_type": "execute_result"
    }
   ],
   "source": [
    "os.getcwd()"
   ]
  },
  {
   "cell_type": "code",
   "execution_count": 63,
   "id": "7c301465",
   "metadata": {
    "scrolled": true
   },
   "outputs": [
    {
     "data": {
      "text/html": [
       "<div>\n",
       "<style scoped>\n",
       "    .dataframe tbody tr th:only-of-type {\n",
       "        vertical-align: middle;\n",
       "    }\n",
       "\n",
       "    .dataframe tbody tr th {\n",
       "        vertical-align: top;\n",
       "    }\n",
       "\n",
       "    .dataframe thead th {\n",
       "        text-align: right;\n",
       "    }\n",
       "</style>\n",
       "<table border=\"1\" class=\"dataframe\">\n",
       "  <thead>\n",
       "    <tr style=\"text-align: right;\">\n",
       "      <th></th>\n",
       "      <th>patentid</th>\n",
       "      <th>title</th>\n",
       "      <th>abstract</th>\n",
       "      <th>question</th>\n",
       "      <th>rank</th>\n",
       "      <th>response</th>\n",
       "    </tr>\n",
       "  </thead>\n",
       "  <tbody>\n",
       "    <tr>\n",
       "      <th>0</th>\n",
       "      <td>CN102934995B</td>\n",
       "      <td>基于图像低秩与稀疏特性的磁共振成像方法</td>\n",
       "      <td>本发明公开了一种基于图像低秩与稀疏特性对观察对象的K空间数据进行稀疏采样，的磁共振成像方法，...</td>\n",
       "      <td>请问贵研究机构是否有基于图像低秩与稀疏特性的磁共振成像方法的相关技术？</td>\n",
       "      <td>1.0</td>\n",
       "      <td>[(1, 73.93507, 'CN102934995B', '基于图像低秩与稀疏特性的磁共...</td>\n",
       "    </tr>\n",
       "    <tr>\n",
       "      <th>1</th>\n",
       "      <td>CN110472479B</td>\n",
       "      <td>一种基于SURF特征点提取和局部LBP编码的指静脉识别方法</td>\n",
       "      <td>本发明公开了一种基于SURF特征点提取和图集局部LBP编码的指静脉识别方法，包括如下步骤：（...</td>\n",
       "      <td>请问贵研究机构是否有基于SURF特征点提取和图集局部LBP编码的指静脉识别技术？</td>\n",
       "      <td>1.0</td>\n",
       "      <td>[(1, 86.82838, 'CN110472479B', '一种基于SURF特征点提取和...</td>\n",
       "    </tr>\n",
       "    <tr>\n",
       "      <th>2</th>\n",
       "      <td>CN114028784B</td>\n",
       "      <td>中缺乏实用性（如便携性差）、难以提供实时运动应用于链球训练的穿戴式运动生物信息监信息（如后处...</td>\n",
       "      <td>本发明属于生物监测技术领域，公开一种应用于链球训练的穿戴式运动生物信息监测系统及方法；所述系...</td>\n",
       "      <td>请问贵研究机构是否有关于穿戴式运动生物信息监测系统及方法的专利技术？</td>\n",
       "      <td>1.0</td>\n",
       "      <td>[(1, 61.872982, 'CN114028784B', '中缺乏实用性（如便携性差）...</td>\n",
       "    </tr>\n",
       "    <tr>\n",
       "      <th>3</th>\n",
       "      <td>CN205909783U</td>\n",
       "      <td>电阻式应变片的封装结构</td>\n",
       "      <td>本实用新型为一种电阻式应变片的封装结构，包括两个分别固定连接于电阻式应变片两端的刚性导电装置...</td>\n",
       "      <td>该专利是否涉及电阻式应变片的封装结构以及柔性绝缘保护材料单元的技术？</td>\n",
       "      <td>1.0</td>\n",
       "      <td>[(1, 77.9051, 'CN205909783U', '电阻式应变片的封装结构'), ...</td>\n",
       "    </tr>\n",
       "    <tr>\n",
       "      <th>4</th>\n",
       "      <td>CN108272469B</td>\n",
       "      <td>一种双频率血管内超声成像探头</td>\n",
       "      <td>本发明提供一种双频率血管内超声成像探头，包括一个低频超声换能器和一个高频超声换能器，同时或分...</td>\n",
       "      <td>请问贵研究机构是否有关于双频率血管内超声成像探头的技术？</td>\n",
       "      <td>1.0</td>\n",
       "      <td>[(1, 55.989346, 'CN108272469B', '一种双频率血管内超声成像探...</td>\n",
       "    </tr>\n",
       "    <tr>\n",
       "      <th>...</th>\n",
       "      <td>...</td>\n",
       "      <td>...</td>\n",
       "      <td>...</td>\n",
       "      <td>...</td>\n",
       "      <td>...</td>\n",
       "      <td>...</td>\n",
       "    </tr>\n",
       "    <tr>\n",
       "      <th>511</th>\n",
       "      <td>CN106324381B</td>\n",
       "      <td>一种电弧光检测装置</td>\n",
       "      <td>本发明适用于电力设备检测技术领域，提供了一种电弧光检测装置，包括聚焦镜头、信号处理及自检信号...</td>\n",
       "      <td>请问贵研究机构是否有关于电弧光检测装置的技术？</td>\n",
       "      <td>2.0</td>\n",
       "      <td>[(1, 38.577675, 'CN111034682B', '一种行为检测装置'), (...</td>\n",
       "    </tr>\n",
       "    <tr>\n",
       "      <th>512</th>\n",
       "      <td>CN102103164B</td>\n",
       "      <td>太阳能光伏电池发电能力预测系统及方法</td>\n",
       "      <td>一种太阳能光伏电池发电能力预测系统及方预测处理模块法，采集待测日以前的多日多个时刻的温度和光...</td>\n",
       "      <td>请问贵研究机构是否有关于太阳能光伏电池发电能力预测系统及方预测处理模块法的技术？</td>\n",
       "      <td>1.0</td>\n",
       "      <td>[(1, 80.00525, 'CN102103164B', '太阳能光伏电池发电能力预测系...</td>\n",
       "    </tr>\n",
       "    <tr>\n",
       "      <th>513</th>\n",
       "      <td>CN103787417B</td>\n",
       "      <td>一种磁性层状二硫化钼纳米片的制备方法</td>\n",
       "      <td>本发明提供一种磁性层状二硫化钼纳米片的制备方法，包括步骤一：将二硫化钼加入至剥离溶剂中，配成...</td>\n",
       "      <td>请问贵研究机构是否有关于磁性层状二硫化钼纳米片的制备方法的技术？</td>\n",
       "      <td>1.0</td>\n",
       "      <td>[(1, 68.59151, 'CN103787417B', '一种磁性层状二硫化钼纳米片的...</td>\n",
       "    </tr>\n",
       "    <tr>\n",
       "      <th>514</th>\n",
       "      <td>CN102920457B</td>\n",
       "      <td>磁共振弹性成像精确度检测方法</td>\n",
       "      <td>获取在预定外力作用下，通过磁共振弹性一种磁共振弹性成像精确度检测方法，包括成像所得的预定成像...</td>\n",
       "      <td>请问贵研究机构是否有一种基于磁共振弹性成像的精确度检测方法，该方法采用有限体积元法获取预定成...</td>\n",
       "      <td>1.0</td>\n",
       "      <td>[(1, 158.05789, 'CN102920457B', '磁共振弹性成像精确度检测方...</td>\n",
       "    </tr>\n",
       "    <tr>\n",
       "      <th>515</th>\n",
       "      <td>CN102551772B</td>\n",
       "      <td>射线成像装置</td>\n",
       "      <td>一种射线成像装置包括固定安装在安装平面上的底座、可安装在底座上的旋转臂、设于旋转臂的一侧的射...</td>\n",
       "      <td>该专利是否涉及射线成像装置的稳定性和成像质量的提高？</td>\n",
       "      <td>1.0</td>\n",
       "      <td>[(1, 51.261536, 'CN102551772B', '射线成像装置'), (2,...</td>\n",
       "    </tr>\n",
       "  </tbody>\n",
       "</table>\n",
       "<p>516 rows × 6 columns</p>\n",
       "</div>"
      ],
      "text/plain": [
       "         patentid                                              title  \\\n",
       "0    CN102934995B                                基于图像低秩与稀疏特性的磁共振成像方法   \n",
       "1    CN110472479B                      一种基于SURF特征点提取和局部LBP编码的指静脉识别方法   \n",
       "2    CN114028784B  中缺乏实用性（如便携性差）、难以提供实时运动应用于链球训练的穿戴式运动生物信息监信息（如后处...   \n",
       "3    CN205909783U                                        电阻式应变片的封装结构   \n",
       "4    CN108272469B                                     一种双频率血管内超声成像探头   \n",
       "..            ...                                                ...   \n",
       "511  CN106324381B                                          一种电弧光检测装置   \n",
       "512  CN102103164B                                 太阳能光伏电池发电能力预测系统及方法   \n",
       "513  CN103787417B                                 一种磁性层状二硫化钼纳米片的制备方法   \n",
       "514  CN102920457B                                     磁共振弹性成像精确度检测方法   \n",
       "515  CN102551772B                                             射线成像装置   \n",
       "\n",
       "                                              abstract  \\\n",
       "0    本发明公开了一种基于图像低秩与稀疏特性对观察对象的K空间数据进行稀疏采样，的磁共振成像方法，...   \n",
       "1    本发明公开了一种基于SURF特征点提取和图集局部LBP编码的指静脉识别方法，包括如下步骤：（...   \n",
       "2    本发明属于生物监测技术领域，公开一种应用于链球训练的穿戴式运动生物信息监测系统及方法；所述系...   \n",
       "3    本实用新型为一种电阻式应变片的封装结构，包括两个分别固定连接于电阻式应变片两端的刚性导电装置...   \n",
       "4    本发明提供一种双频率血管内超声成像探头，包括一个低频超声换能器和一个高频超声换能器，同时或分...   \n",
       "..                                                 ...   \n",
       "511  本发明适用于电力设备检测技术领域，提供了一种电弧光检测装置，包括聚焦镜头、信号处理及自检信号...   \n",
       "512  一种太阳能光伏电池发电能力预测系统及方预测处理模块法，采集待测日以前的多日多个时刻的温度和光...   \n",
       "513  本发明提供一种磁性层状二硫化钼纳米片的制备方法，包括步骤一：将二硫化钼加入至剥离溶剂中，配成...   \n",
       "514  获取在预定外力作用下，通过磁共振弹性一种磁共振弹性成像精确度检测方法，包括成像所得的预定成像...   \n",
       "515  一种射线成像装置包括固定安装在安装平面上的底座、可安装在底座上的旋转臂、设于旋转臂的一侧的射...   \n",
       "\n",
       "                                              question  rank  \\\n",
       "0                  请问贵研究机构是否有基于图像低秩与稀疏特性的磁共振成像方法的相关技术？   1.0   \n",
       "1             请问贵研究机构是否有基于SURF特征点提取和图集局部LBP编码的指静脉识别技术？   1.0   \n",
       "2                   请问贵研究机构是否有关于穿戴式运动生物信息监测系统及方法的专利技术？   1.0   \n",
       "3                   该专利是否涉及电阻式应变片的封装结构以及柔性绝缘保护材料单元的技术？   1.0   \n",
       "4                         请问贵研究机构是否有关于双频率血管内超声成像探头的技术？   1.0   \n",
       "..                                                 ...   ...   \n",
       "511                            请问贵研究机构是否有关于电弧光检测装置的技术？   2.0   \n",
       "512           请问贵研究机构是否有关于太阳能光伏电池发电能力预测系统及方预测处理模块法的技术？   1.0   \n",
       "513                   请问贵研究机构是否有关于磁性层状二硫化钼纳米片的制备方法的技术？   1.0   \n",
       "514  请问贵研究机构是否有一种基于磁共振弹性成像的精确度检测方法，该方法采用有限体积元法获取预定成...   1.0   \n",
       "515                         该专利是否涉及射线成像装置的稳定性和成像质量的提高？   1.0   \n",
       "\n",
       "                                              response  \n",
       "0    [(1, 73.93507, 'CN102934995B', '基于图像低秩与稀疏特性的磁共...  \n",
       "1    [(1, 86.82838, 'CN110472479B', '一种基于SURF特征点提取和...  \n",
       "2    [(1, 61.872982, 'CN114028784B', '中缺乏实用性（如便携性差）...  \n",
       "3    [(1, 77.9051, 'CN205909783U', '电阻式应变片的封装结构'), ...  \n",
       "4    [(1, 55.989346, 'CN108272469B', '一种双频率血管内超声成像探...  \n",
       "..                                                 ...  \n",
       "511  [(1, 38.577675, 'CN111034682B', '一种行为检测装置'), (...  \n",
       "512  [(1, 80.00525, 'CN102103164B', '太阳能光伏电池发电能力预测系...  \n",
       "513  [(1, 68.59151, 'CN103787417B', '一种磁性层状二硫化钼纳米片的...  \n",
       "514  [(1, 158.05789, 'CN102920457B', '磁共振弹性成像精确度检测方...  \n",
       "515  [(1, 51.261536, 'CN102551772B', '射线成像装置'), (2,...  \n",
       "\n",
       "[516 rows x 6 columns]"
      ]
     },
     "execution_count": 63,
     "metadata": {},
     "output_type": "execute_result"
    }
   ],
   "source": [
    "# res_df = pd.read_csv(os.path.join(os.getcwd(), 'qx_BV01\\\\answers_byrow_vote.csv'))\n",
    "# res_df = pd.read_csv(os.path.join(os.getcwd(), 'qx_BV01\\\\answers_fuzzy.csv'))\n",
    "res_df = pd.read_csv(os.path.join(os.getcwd(), 'qx_BV01\\\\answers_byrow_10000_fuzzy_17100631.csv'))\n",
    "\n",
    "rank_df = res_df[['patentid', 'title', 'abstract', 'question', 'rank', 'response']]\n",
    "rank_df"
   ]
  },
  {
   "cell_type": "code",
   "execution_count": 64,
   "id": "1ddbf03e",
   "metadata": {},
   "outputs": [
    {
     "name": "stdout",
     "output_type": "stream",
     "text": [
      "0.009689922480620155\n"
     ]
    }
   ],
   "source": [
    "nan_count = rank_df['rank'].isna().sum()\n",
    "print(nan_count/len(rank_df))"
   ]
  },
  {
   "cell_type": "code",
   "execution_count": 65,
   "id": "4d839e76",
   "metadata": {},
   "outputs": [
    {
     "name": "stdout",
     "output_type": "stream",
     "text": [
      "0.8817829457364341\n"
     ]
    }
   ],
   "source": [
    "lt_1_count = (rank_df['rank']==1.0).sum()\n",
    "print(lt_1_count/len(rank_df))"
   ]
  },
  {
   "cell_type": "code",
   "execution_count": 66,
   "id": "c7fdb886",
   "metadata": {},
   "outputs": [
    {
     "name": "stdout",
     "output_type": "stream",
     "text": [
      "0.9496124031007752\n"
     ]
    }
   ],
   "source": [
    "lt_3_count = (rank_df['rank'] < 3).sum()\n",
    "print(lt_3_count/len(rank_df))"
   ]
  },
  {
   "cell_type": "code",
   "execution_count": 67,
   "id": "ad047a93",
   "metadata": {},
   "outputs": [
    {
     "name": "stdout",
     "output_type": "stream",
     "text": [
      "0.9767441860465116\n"
     ]
    }
   ],
   "source": [
    "lt_6_count = (rank_df['rank'] < 6).sum()\n",
    "print(lt_6_count/len(rank_df))"
   ]
  },
  {
   "cell_type": "code",
   "execution_count": 68,
   "id": "e5b6d066",
   "metadata": {},
   "outputs": [
    {
     "name": "stdout",
     "output_type": "stream",
     "text": [
      "0.9903100775193798\n"
     ]
    }
   ],
   "source": [
    "lt_10_count = (rank_df['rank'] < 10).sum()\n",
    "print(lt_10_count/len(rank_df))"
   ]
  },
  {
   "cell_type": "code",
   "execution_count": null,
   "id": "61f6dd51",
   "metadata": {},
   "outputs": [],
   "source": []
  },
  {
   "cell_type": "code",
   "execution_count": 28,
   "id": "15fa6770",
   "metadata": {},
   "outputs": [],
   "source": [
    "error_df = rank_df[rank_df['rank']!=1.0]"
   ]
  },
  {
   "cell_type": "code",
   "execution_count": 29,
   "id": "ae0b92fc",
   "metadata": {},
   "outputs": [
    {
     "data": {
      "text/html": [
       "<div>\n",
       "<style scoped>\n",
       "    .dataframe tbody tr th:only-of-type {\n",
       "        vertical-align: middle;\n",
       "    }\n",
       "\n",
       "    .dataframe tbody tr th {\n",
       "        vertical-align: top;\n",
       "    }\n",
       "\n",
       "    .dataframe thead th {\n",
       "        text-align: right;\n",
       "    }\n",
       "</style>\n",
       "<table border=\"1\" class=\"dataframe\">\n",
       "  <thead>\n",
       "    <tr style=\"text-align: right;\">\n",
       "      <th></th>\n",
       "      <th>title</th>\n",
       "      <th>rank</th>\n",
       "      <th>difficult_question</th>\n",
       "      <th>response</th>\n",
       "    </tr>\n",
       "  </thead>\n",
       "  <tbody>\n",
       "    <tr>\n",
       "      <th>10</th>\n",
       "      <td>无创连续血压测量装置</td>\n",
       "      <td>2.0</td>\n",
       "      <td>有没有做 连续血压测量 技术的团队？</td>\n",
       "      <td>[(1, 'CN103445808B', array(['大动脉无创连续血压测量装置'], ...</td>\n",
       "    </tr>\n",
       "    <tr>\n",
       "      <th>13</th>\n",
       "      <td>携能无线消息的收发系统、方法和设备</td>\n",
       "      <td>NaN</td>\n",
       "      <td>有没有做 无线充电 技术的团队？</td>\n",
       "      <td>[(1, 'CN105629186B', array(['一种磁共振射频线圈'], dtyp...</td>\n",
       "    </tr>\n",
       "    <tr>\n",
       "      <th>15</th>\n",
       "      <td>一种视觉检测光源控制电路、控制装置及光源系统</td>\n",
       "      <td>2.0</td>\n",
       "      <td>有没有做 视觉检测光源控制 技术的团队？</td>\n",
       "      <td>[(1, 'CN114157816B', array(['光源控制电路及视觉检测仪'], d...</td>\n",
       "    </tr>\n",
       "    <tr>\n",
       "      <th>16</th>\n",
       "      <td>一种热界面材料及其制备方法</td>\n",
       "      <td>NaN</td>\n",
       "      <td>有没有做 热界面材料的主要用途是提高导热系数，用于导热传递。 技术的团队？</td>\n",
       "      <td>[(1, 'CN109651761B', array(['一种热界面材料及其制备方法'], ...</td>\n",
       "    </tr>\n",
       "    <tr>\n",
       "      <th>33</th>\n",
       "      <td>用于三维尺寸测量的双目光电式内窥镜及内窥系统</td>\n",
       "      <td>2.0</td>\n",
       "      <td>有没有做 用于三维尺寸测量的内窥镜 技术的团队？</td>\n",
       "      <td>[(1, 'CN104656242B', array(['双物镜单图像传感器的内窥镜双目光学...</td>\n",
       "    </tr>\n",
       "    <tr>\n",
       "      <th>50</th>\n",
       "      <td>用于CT系统中标定几何参数的标定体模、标定装置及标定方法</td>\n",
       "      <td>2.0</td>\n",
       "      <td>有没有做 用于CT系统中几何参数标定的标定体模和标定装置 技术的团队？</td>\n",
       "      <td>[(1, 'CN101750021B', array(['CT系统中几何参数的标定方法、装置...</td>\n",
       "    </tr>\n",
       "    <tr>\n",
       "      <th>51</th>\n",
       "      <td>外科手术清创装置</td>\n",
       "      <td>NaN</td>\n",
       "      <td>有没有做 外科手术清创装置用于清创过程中患肢的安置和增加患肢的舒适度。 技术的团队？</td>\n",
       "      <td>[(1, 'CN208969969U', array(['一种动物恐高测试实验装置'], d...</td>\n",
       "    </tr>\n",
       "    <tr>\n",
       "      <th>92</th>\n",
       "      <td>一种智能眼镜交互系统及智能交互方法</td>\n",
       "      <td>3.0</td>\n",
       "      <td>有没有做 智能眼镜交互系统及智能交互方法的主要用途是实现人手与智能眼镜的精确灵活交互。 技术...</td>\n",
       "      <td>[(1, 'CN103513771B', array(['智能眼镜与交互笔配合使用的系统及方...</td>\n",
       "    </tr>\n",
       "  </tbody>\n",
       "</table>\n",
       "</div>"
      ],
      "text/plain": [
       "                           title  rank  \\\n",
       "10                    无创连续血压测量装置   2.0   \n",
       "13             携能无线消息的收发系统、方法和设备   NaN   \n",
       "15        一种视觉检测光源控制电路、控制装置及光源系统   2.0   \n",
       "16                 一种热界面材料及其制备方法   NaN   \n",
       "33        用于三维尺寸测量的双目光电式内窥镜及内窥系统   2.0   \n",
       "50  用于CT系统中标定几何参数的标定体模、标定装置及标定方法   2.0   \n",
       "51                      外科手术清创装置   NaN   \n",
       "92             一种智能眼镜交互系统及智能交互方法   3.0   \n",
       "\n",
       "                                   difficult_question  \\\n",
       "10                                 有没有做 连续血压测量 技术的团队？   \n",
       "13                                   有没有做 无线充电 技术的团队？   \n",
       "15                               有没有做 视觉检测光源控制 技术的团队？   \n",
       "16              有没有做 热界面材料的主要用途是提高导热系数，用于导热传递。 技术的团队？   \n",
       "33                           有没有做 用于三维尺寸测量的内窥镜 技术的团队？   \n",
       "50                有没有做 用于CT系统中几何参数标定的标定体模和标定装置 技术的团队？   \n",
       "51         有没有做 外科手术清创装置用于清创过程中患肢的安置和增加患肢的舒适度。 技术的团队？   \n",
       "92  有没有做 智能眼镜交互系统及智能交互方法的主要用途是实现人手与智能眼镜的精确灵活交互。 技术...   \n",
       "\n",
       "                                             response  \n",
       "10  [(1, 'CN103445808B', array(['大动脉无创连续血压测量装置'], ...  \n",
       "13  [(1, 'CN105629186B', array(['一种磁共振射频线圈'], dtyp...  \n",
       "15  [(1, 'CN114157816B', array(['光源控制电路及视觉检测仪'], d...  \n",
       "16  [(1, 'CN109651761B', array(['一种热界面材料及其制备方法'], ...  \n",
       "33  [(1, 'CN104656242B', array(['双物镜单图像传感器的内窥镜双目光学...  \n",
       "50  [(1, 'CN101750021B', array(['CT系统中几何参数的标定方法、装置...  \n",
       "51  [(1, 'CN208969969U', array(['一种动物恐高测试实验装置'], d...  \n",
       "92  [(1, 'CN103513771B', array(['智能眼镜与交互笔配合使用的系统及方...  "
      ]
     },
     "execution_count": 29,
     "metadata": {},
     "output_type": "execute_result"
    }
   ],
   "source": [
    "error_df[['title', 'rank', 'difficult_question', 'response']]"
   ]
  },
  {
   "cell_type": "markdown",
   "id": "267f6d7c",
   "metadata": {},
   "source": [
    "### Merge meta information (core 2B function)"
   ]
  },
  {
   "cell_type": "code",
   "execution_count": null,
   "id": "32b49c6a",
   "metadata": {},
   "outputs": [],
   "source": []
  },
  {
   "cell_type": "code",
   "execution_count": null,
   "id": "ff2ef2a2",
   "metadata": {},
   "outputs": [],
   "source": []
  },
  {
   "cell_type": "code",
   "execution_count": null,
   "id": "bcb0223e",
   "metadata": {},
   "outputs": [],
   "source": []
  },
  {
   "cell_type": "code",
   "execution_count": null,
   "id": "fb2a5f4c",
   "metadata": {},
   "outputs": [],
   "source": []
  },
  {
   "cell_type": "code",
   "execution_count": null,
   "id": "44b5304b",
   "metadata": {},
   "outputs": [],
   "source": []
  },
  {
   "cell_type": "code",
   "execution_count": null,
   "id": "179338ca",
   "metadata": {},
   "outputs": [],
   "source": []
  },
  {
   "cell_type": "code",
   "execution_count": null,
   "id": "e13b6751",
   "metadata": {},
   "outputs": [],
   "source": []
  }
 ],
 "metadata": {
  "kernelspec": {
   "display_name": "Python 3 (ipykernel)",
   "language": "python",
   "name": "python3"
  },
  "language_info": {
   "codemirror_mode": {
    "name": "ipython",
    "version": 3
   },
   "file_extension": ".py",
   "mimetype": "text/x-python",
   "name": "python",
   "nbconvert_exporter": "python",
   "pygments_lexer": "ipython3",
   "version": "3.9.7"
  }
 },
 "nbformat": 4,
 "nbformat_minor": 5
}
